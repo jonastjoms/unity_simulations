{
 "cells": [
  {
   "cell_type": "code",
   "execution_count": 3,
   "metadata": {},
   "outputs": [
    {
     "name": "stdout",
     "output_type": "stream",
     "text": [
      "2.0.0\n"
     ]
    }
   ],
   "source": [
    "from __future__ import absolute_import, division, print_function, unicode_literals\n",
    "\n",
    "import tensorflow as tf\n",
    "from tensorflow import keras\n",
    "from tensorflow.keras import layers\n",
    "print(tf.__version__)\n",
    "\n",
    "import seaborn as sns\n",
    "import matplotlib.pyplot as plt\n",
    "%matplotlib inline\n",
    "\n",
    "import numpy as np\n",
    "import pandas as pd\n",
    "import imageio\n",
    "import pathlib\n",
    "import tensorflow_docs as tfdocs\n",
    "import tensorflow_docs.modeling\n",
    "import tensorflow_docs.plots"
   ]
  },
  {
   "cell_type": "code",
   "execution_count": null,
   "metadata": {},
   "outputs": [],
   "source": []
  },
  {
   "cell_type": "code",
   "execution_count": 4,
   "metadata": {},
   "outputs": [],
   "source": [
    "# Load data:\n",
    "X = pd.read_csv('data.csv')\n",
    "Y = pd.read_csv('labels.csv')"
   ]
  },
  {
   "cell_type": "code",
   "execution_count": 5,
   "metadata": {},
   "outputs": [],
   "source": [
    "X_train = X[0:200]\n",
    "Y_train = Y[0:200]\n",
    "X_test = X[200:]\n",
    "Y_test = Y[200:]"
   ]
  },
  {
   "cell_type": "code",
   "execution_count": 6,
   "metadata": {},
   "outputs": [
    {
     "name": "stdout",
     "output_type": "stream",
     "text": [
      "Model: \"sequential\"\n",
      "_________________________________________________________________\n",
      "Layer (type)                 Output Shape              Param #   \n",
      "=================================================================\n",
      "dense (Dense)                (None, 64)                1792      \n",
      "_________________________________________________________________\n",
      "dense_1 (Dense)              (None, 64)                4160      \n",
      "_________________________________________________________________\n",
      "dense_2 (Dense)              (None, 16)                1040      \n",
      "=================================================================\n",
      "Total params: 6,992\n",
      "Trainable params: 6,992\n",
      "Non-trainable params: 0\n",
      "_________________________________________________________________\n"
     ]
    }
   ],
   "source": [
    "def build_model():\n",
    "  model = keras.Sequential([\n",
    "    layers.Dense(64, activation='relu', input_shape=[len(X_train.keys())]),\n",
    "    layers.Dense(64, activation='relu'),\n",
    "    layers.Dense(16)\n",
    "  ])\n",
    "\n",
    "  optimizer = tf.keras.optimizers.Adam(0.001)\n",
    "\n",
    "  model.compile(loss='mse',\n",
    "                optimizer=optimizer,\n",
    "                metrics=['mae', 'mse'])\n",
    "  return model\n",
    "model = build_model()\n",
    "model.summary()"
   ]
  },
  {
   "cell_type": "code",
   "execution_count": 6,
   "metadata": {},
   "outputs": [
    {
     "name": "stdout",
     "output_type": "stream",
     "text": [
      "\n",
      "Epoch: 0, loss:4446.6672,  mae:42.6436,  mse:4446.6670,  val_loss:3477.9034,  val_mae:38.6963,  val_mse:3477.9036,  \n",
      "....................................................................................................\n",
      "Epoch: 100, loss:4.6773,  mae:1.7419,  mse:4.6773,  val_loss:9.3226,  val_mae:2.2186,  val_mse:9.3226,  \n",
      "....................................................................................................\n",
      "Epoch: 200, loss:2.7993,  mae:1.3568,  mse:2.7993,  val_loss:6.9066,  val_mae:1.9331,  val_mse:6.9066,  \n",
      "....................................................................................................\n",
      "Epoch: 300, loss:2.1560,  mae:1.1757,  mse:2.1560,  val_loss:6.2469,  val_mae:1.8461,  val_mse:6.2469,  \n",
      "....................................................................................................\n",
      "Epoch: 400, loss:1.6099,  mae:1.0139,  mse:1.6099,  val_loss:5.3926,  val_mae:1.6554,  val_mse:5.3926,  \n",
      "....................................................................................................\n",
      "Epoch: 500, loss:1.6046,  mae:0.9674,  mse:1.6046,  val_loss:5.0834,  val_mae:1.6200,  val_mse:5.0834,  \n",
      "....................................................................................................\n",
      "Epoch: 600, loss:1.1134,  mae:0.8077,  mse:1.1134,  val_loss:4.4990,  val_mae:1.4619,  val_mse:4.4990,  \n",
      "....................................................................................................\n",
      "Epoch: 700, loss:0.7913,  mae:0.6776,  mse:0.7913,  val_loss:3.9430,  val_mae:1.3670,  val_mse:3.9430,  \n",
      "...................................................................................................."
     ]
    }
   ],
   "source": [
    "EPOCHS = 800\n",
    "\n",
    "history = model.fit(\n",
    "  X_train.values, Y_train.values,\n",
    "  epochs=EPOCHS, validation_split = 0.2, verbose=0,\n",
    "  callbacks=[tfdocs.modeling.EpochDots()])"
   ]
  },
  {
   "cell_type": "code",
   "execution_count": null,
   "metadata": {},
   "outputs": [],
   "source": [
    "test_predictions = model.predict(X_test.values).flatten()\n",
    "\n",
    "a = plt.axes(aspect='equal')\n",
    "plt.scatter(Y_test.values, test_predictions)\n",
    "plt.xlabel('True Values')\n",
    "plt.ylabel('Predictions')\n",
    "lims = [0, 50]\n",
    "plt.xlim(lims)\n",
    "plt.ylim(lims)\n",
    "_ = plt.plot(lims, lims)"
   ]
  },
  {
   "cell_type": "code",
   "execution_count": null,
   "metadata": {},
   "outputs": [],
   "source": []
  }
 ],
 "metadata": {
  "kernelspec": {
   "display_name": "Python 3",
   "language": "python",
   "name": "python3"
  },
  "language_info": {
   "codemirror_mode": {
    "name": "ipython",
    "version": 3
   },
   "file_extension": ".py",
   "mimetype": "text/x-python",
   "name": "python",
   "nbconvert_exporter": "python",
   "pygments_lexer": "ipython3",
   "version": "3.7.4"
  }
 },
 "nbformat": 4,
 "nbformat_minor": 2
}
